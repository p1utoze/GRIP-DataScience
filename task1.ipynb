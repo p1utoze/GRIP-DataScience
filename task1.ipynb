{
 "cells": [
  {
   "cell_type": "markdown",
   "id": "c7e80ade-e36e-4e58-93cc-c95f38e0a641",
   "metadata": {
    "tags": []
   },
   "source": [
    "# <u>**THE SPARK FOUNDATION**<u>\n",
    "\n",
    "## GRIP: Data Science and Business Analytics #GRIPNOVEMBER22\n",
    "---"
   ]
  },
  {
   "cell_type": "markdown",
   "id": "72f6a018-2312-4312-a210-91e2b5af7462",
   "metadata": {
    "tags": []
   },
   "source": [
    "### Name: **Adithya Awati**\n",
    "### **Task1:** Prediction Using Supervised Machine Learning\n",
    "### **Batch:** November 2022 "
   ]
  },
  {
   "cell_type": "markdown",
   "id": "0c785533-b7a6-43e5-9755-4bfc34486e86",
   "metadata": {},
   "source": [
    "<br>"
   ]
  },
  {
   "cell_type": "markdown",
   "id": "a32a77fd-cbd7-41d4-8966-d5682bf48204",
   "metadata": {},
   "source": [
    "### **Linear Regression Algorithm**\n",
    "\n",
    "In this regression task, we will predict the percentage score for the given study hours of each student. This requires simple linear regression as it has only one feature and one target."
   ]
  },
  {
   "cell_type": "markdown",
   "id": "a9268cde-0b70-41ed-85f2-b97bf6b46899",
   "metadata": {},
   "source": [
    "> ## 1. Importing all the essential libraries for data analysis and training the model"
   ]
  },
  {
   "cell_type": "code",
   "execution_count": 20,
   "id": "c75b3541-e584-4700-b0b6-a2f1f89bc878",
   "metadata": {
    "tags": []
   },
   "outputs": [],
   "source": [
    "import numpy as np\n",
    "import pandas as pd\n",
    "import matplotlib.pyplot as plt\n",
    "from sklearn.model_selection import train_test_split\n",
    "from sklearn.linear_model import LinearRegression\n",
    "from sklearn.metrics import mean_absolute_error, r2_score\n",
    "%matplotlib inline"
   ]
  },
  {
   "cell_type": "markdown",
   "id": "a82e01fb-a586-4fb6-b0bd-6ce0eb73ed13",
   "metadata": {},
   "source": [
    "> ## 2. Reading data from the given dataset and performing exploratory data analysis"
   ]
  },
  {
   "cell_type": "code",
   "execution_count": 21,
   "id": "c9cabd8a-fe7c-4c89-8855-930980c87b5e",
   "metadata": {},
   "outputs": [
    {
     "data": {
      "text/html": [
       "<div>\n",
       "<style scoped>\n",
       "    .dataframe tbody tr th:only-of-type {\n",
       "        vertical-align: middle;\n",
       "    }\n",
       "\n",
       "    .dataframe tbody tr th {\n",
       "        vertical-align: top;\n",
       "    }\n",
       "\n",
       "    .dataframe thead th {\n",
       "        text-align: right;\n",
       "    }\n",
       "</style>\n",
       "<table border=\"1\" class=\"dataframe\">\n",
       "  <thead>\n",
       "    <tr style=\"text-align: right;\">\n",
       "      <th></th>\n",
       "      <th>Hours</th>\n",
       "      <th>Scores</th>\n",
       "    </tr>\n",
       "  </thead>\n",
       "  <tbody>\n",
       "    <tr>\n",
       "      <th>count</th>\n",
       "      <td>25.000000</td>\n",
       "      <td>25.000000</td>\n",
       "    </tr>\n",
       "    <tr>\n",
       "      <th>mean</th>\n",
       "      <td>5.012000</td>\n",
       "      <td>51.480000</td>\n",
       "    </tr>\n",
       "    <tr>\n",
       "      <th>std</th>\n",
       "      <td>2.525094</td>\n",
       "      <td>25.286887</td>\n",
       "    </tr>\n",
       "    <tr>\n",
       "      <th>min</th>\n",
       "      <td>1.100000</td>\n",
       "      <td>17.000000</td>\n",
       "    </tr>\n",
       "    <tr>\n",
       "      <th>25%</th>\n",
       "      <td>2.700000</td>\n",
       "      <td>30.000000</td>\n",
       "    </tr>\n",
       "    <tr>\n",
       "      <th>50%</th>\n",
       "      <td>4.800000</td>\n",
       "      <td>47.000000</td>\n",
       "    </tr>\n",
       "    <tr>\n",
       "      <th>75%</th>\n",
       "      <td>7.400000</td>\n",
       "      <td>75.000000</td>\n",
       "    </tr>\n",
       "    <tr>\n",
       "      <th>max</th>\n",
       "      <td>9.200000</td>\n",
       "      <td>95.000000</td>\n",
       "    </tr>\n",
       "  </tbody>\n",
       "</table>\n",
       "</div>"
      ],
      "text/plain": [
       "           Hours     Scores\n",
       "count  25.000000  25.000000\n",
       "mean    5.012000  51.480000\n",
       "std     2.525094  25.286887\n",
       "min     1.100000  17.000000\n",
       "25%     2.700000  30.000000\n",
       "50%     4.800000  47.000000\n",
       "75%     7.400000  75.000000\n",
       "max     9.200000  95.000000"
      ]
     },
     "execution_count": 21,
     "metadata": {},
     "output_type": "execute_result"
    }
   ],
   "source": [
    "path = \"http://bit.ly/w-data\"\n",
    "data = pd.read_csv(path)\n",
    "data.describe()"
   ]
  },
  {
   "cell_type": "markdown",
   "id": "ea57e460-67a4-4507-8683-e8b7191aba94",
   "metadata": {},
   "source": [
    "### **Printing the first 5 rows of the dataset**"
   ]
  },
  {
   "cell_type": "code",
   "execution_count": 22,
   "id": "aca38aef-f496-4ec6-b20c-3b1d1029574e",
   "metadata": {},
   "outputs": [
    {
     "data": {
      "text/html": [
       "<div>\n",
       "<style scoped>\n",
       "    .dataframe tbody tr th:only-of-type {\n",
       "        vertical-align: middle;\n",
       "    }\n",
       "\n",
       "    .dataframe tbody tr th {\n",
       "        vertical-align: top;\n",
       "    }\n",
       "\n",
       "    .dataframe thead th {\n",
       "        text-align: right;\n",
       "    }\n",
       "</style>\n",
       "<table border=\"1\" class=\"dataframe\">\n",
       "  <thead>\n",
       "    <tr style=\"text-align: right;\">\n",
       "      <th></th>\n",
       "      <th>Hours</th>\n",
       "      <th>Scores</th>\n",
       "    </tr>\n",
       "  </thead>\n",
       "  <tbody>\n",
       "    <tr>\n",
       "      <th>0</th>\n",
       "      <td>2.5</td>\n",
       "      <td>21</td>\n",
       "    </tr>\n",
       "    <tr>\n",
       "      <th>1</th>\n",
       "      <td>5.1</td>\n",
       "      <td>47</td>\n",
       "    </tr>\n",
       "    <tr>\n",
       "      <th>2</th>\n",
       "      <td>3.2</td>\n",
       "      <td>27</td>\n",
       "    </tr>\n",
       "    <tr>\n",
       "      <th>3</th>\n",
       "      <td>8.5</td>\n",
       "      <td>75</td>\n",
       "    </tr>\n",
       "    <tr>\n",
       "      <th>4</th>\n",
       "      <td>3.5</td>\n",
       "      <td>30</td>\n",
       "    </tr>\n",
       "  </tbody>\n",
       "</table>\n",
       "</div>"
      ],
      "text/plain": [
       "   Hours  Scores\n",
       "0    2.5      21\n",
       "1    5.1      47\n",
       "2    3.2      27\n",
       "3    8.5      75\n",
       "4    3.5      30"
      ]
     },
     "execution_count": 22,
     "metadata": {},
     "output_type": "execute_result"
    }
   ],
   "source": [
    "data.head()"
   ]
  },
  {
   "cell_type": "markdown",
   "id": "6acf82e6-f11b-45b4-a23b-69833c2054a4",
   "metadata": {},
   "source": [
    "### **Printing the last 5 rows of the dataset**"
   ]
  },
  {
   "cell_type": "code",
   "execution_count": 23,
   "id": "a6a9dcea-1682-4da2-9de9-d1be7dae09af",
   "metadata": {},
   "outputs": [
    {
     "data": {
      "text/html": [
       "<div>\n",
       "<style scoped>\n",
       "    .dataframe tbody tr th:only-of-type {\n",
       "        vertical-align: middle;\n",
       "    }\n",
       "\n",
       "    .dataframe tbody tr th {\n",
       "        vertical-align: top;\n",
       "    }\n",
       "\n",
       "    .dataframe thead th {\n",
       "        text-align: right;\n",
       "    }\n",
       "</style>\n",
       "<table border=\"1\" class=\"dataframe\">\n",
       "  <thead>\n",
       "    <tr style=\"text-align: right;\">\n",
       "      <th></th>\n",
       "      <th>Hours</th>\n",
       "      <th>Scores</th>\n",
       "    </tr>\n",
       "  </thead>\n",
       "  <tbody>\n",
       "    <tr>\n",
       "      <th>20</th>\n",
       "      <td>2.7</td>\n",
       "      <td>30</td>\n",
       "    </tr>\n",
       "    <tr>\n",
       "      <th>21</th>\n",
       "      <td>4.8</td>\n",
       "      <td>54</td>\n",
       "    </tr>\n",
       "    <tr>\n",
       "      <th>22</th>\n",
       "      <td>3.8</td>\n",
       "      <td>35</td>\n",
       "    </tr>\n",
       "    <tr>\n",
       "      <th>23</th>\n",
       "      <td>6.9</td>\n",
       "      <td>76</td>\n",
       "    </tr>\n",
       "    <tr>\n",
       "      <th>24</th>\n",
       "      <td>7.8</td>\n",
       "      <td>86</td>\n",
       "    </tr>\n",
       "  </tbody>\n",
       "</table>\n",
       "</div>"
      ],
      "text/plain": [
       "    Hours  Scores\n",
       "20    2.7      30\n",
       "21    4.8      54\n",
       "22    3.8      35\n",
       "23    6.9      76\n",
       "24    7.8      86"
      ]
     },
     "execution_count": 23,
     "metadata": {},
     "output_type": "execute_result"
    }
   ],
   "source": [
    "data.tail()"
   ]
  },
  {
   "cell_type": "markdown",
   "id": "363ea32d-7fd3-4a98-9c1a-96c21994b42e",
   "metadata": {},
   "source": [
    "### **Fetching general overview of the dataset- no. of entries, no. of columns, null values and type of values**"
   ]
  },
  {
   "cell_type": "code",
   "execution_count": 24,
   "id": "1b3e0f2e-7cfb-4828-890f-cda18a13bb07",
   "metadata": {},
   "outputs": [
    {
     "name": "stdout",
     "output_type": "stream",
     "text": [
      "<class 'pandas.core.frame.DataFrame'>\n",
      "RangeIndex: 25 entries, 0 to 24\n",
      "Data columns (total 2 columns):\n",
      " #   Column  Non-Null Count  Dtype  \n",
      "---  ------  --------------  -----  \n",
      " 0   Hours   25 non-null     float64\n",
      " 1   Scores  25 non-null     int64  \n",
      "dtypes: float64(1), int64(1)\n",
      "memory usage: 528.0 bytes\n"
     ]
    }
   ],
   "source": [
    "data.info()"
   ]
  },
  {
   "cell_type": "markdown",
   "id": "59a18d55-7d92-4b0d-8aae-519baa9181b6",
   "metadata": {},
   "source": [
    "### **Finding correlation between the variables of dataset**"
   ]
  },
  {
   "cell_type": "code",
   "execution_count": 25,
   "id": "6fd6b5b4-8c5c-4ee9-81a0-1aa435e22115",
   "metadata": {},
   "outputs": [
    {
     "data": {
      "text/html": [
       "<div>\n",
       "<style scoped>\n",
       "    .dataframe tbody tr th:only-of-type {\n",
       "        vertical-align: middle;\n",
       "    }\n",
       "\n",
       "    .dataframe tbody tr th {\n",
       "        vertical-align: top;\n",
       "    }\n",
       "\n",
       "    .dataframe thead th {\n",
       "        text-align: right;\n",
       "    }\n",
       "</style>\n",
       "<table border=\"1\" class=\"dataframe\">\n",
       "  <thead>\n",
       "    <tr style=\"text-align: right;\">\n",
       "      <th></th>\n",
       "      <th>Hours</th>\n",
       "      <th>Scores</th>\n",
       "    </tr>\n",
       "  </thead>\n",
       "  <tbody>\n",
       "    <tr>\n",
       "      <th>Hours</th>\n",
       "      <td>1.000000</td>\n",
       "      <td>0.976191</td>\n",
       "    </tr>\n",
       "    <tr>\n",
       "      <th>Scores</th>\n",
       "      <td>0.976191</td>\n",
       "      <td>1.000000</td>\n",
       "    </tr>\n",
       "  </tbody>\n",
       "</table>\n",
       "</div>"
      ],
      "text/plain": [
       "           Hours    Scores\n",
       "Hours   1.000000  0.976191\n",
       "Scores  0.976191  1.000000"
      ]
     },
     "execution_count": 25,
     "metadata": {},
     "output_type": "execute_result"
    }
   ],
   "source": [
    "data.corr()"
   ]
  },
  {
   "cell_type": "markdown",
   "id": "05d10eff-a6c9-4a14-912e-57906f4e4fcf",
   "metadata": {},
   "source": [
    "From the above correlation value, it is clear that the two variables are positively correlated"
   ]
  },
  {
   "cell_type": "markdown",
   "id": "77a56e32-34e4-4fa5-8699-b4dab28656ae",
   "metadata": {},
   "source": [
    "<br>"
   ]
  },
  {
   "cell_type": "markdown",
   "id": "ccface79-21cd-43c0-8f43-0e62fc412c21",
   "metadata": {},
   "source": [
    "> ## 3. **Data Visualization and identifying nature of the dataset graph**"
   ]
  },
  {
   "cell_type": "code",
   "execution_count": 26,
   "id": "d04d5e84-61da-4cb0-af55-5d8eea7fb990",
   "metadata": {},
   "outputs": [
    {
     "data": {
      "image/png": "[encoded data removed]",
      "text/plain": [
       "<Figure size 900x700 with 1 Axes>"
      ]
     },
     "metadata": {},
     "output_type": "display_data"
    }
   ],
   "source": [
    "plt.rcParams[\"figure.figsize\"] = [9.0, 7.0]\n",
    "data.plot(kind=\"scatter\", x=\"Hours\", y=\"Scores\", color=\"red\")\n",
    "plt.xlabel(\"Hours\")\n",
    "plt.ylabel(\"Colors\")\n",
    "plt.title(\"Student Details Graph: Study hours vs Scores\")\n",
    "plt.grid(linewidth=0.5)\n",
    "plt.show()"
   ]
  },
  {
   "cell_type": "markdown",
   "id": "97b0d1d9-4f79-4b8a-85d5-9c88eb2f2a99",
   "metadata": {},
   "source": [
    "From the plot, we come to know a linear relationship exists between the feature and the target\n",
    "So, now we will be implementing the supervised learning algorithm and create our model."
   ]
  },
  {
   "cell_type": "markdown",
   "id": "612ed79a-9463-44dc-a8d3-554bf5226024",
   "metadata": {},
   "source": [
    "<br>"
   ]
  },
  {
   "cell_type": "markdown",
   "id": "4e38edc9-569f-40f4-8c48-4580dd46f21b",
   "metadata": {},
   "source": [
    "> ## 4. **Implementing the ML Alogrithm**"
   ]
  },
  {
   "cell_type": "markdown",
   "id": "378b6d6c-e528-43a0-aad4-cfa953148cfc",
   "metadata": {},
   "source": [
    "### **Setting the Features(Independent Variable=X) and Target(Dependent variable=y)**\n"
   ]
  },
  {
   "cell_type": "code",
   "execution_count": 27,
   "id": "92315872-7bd3-4c49-a90a-ece924436a42",
   "metadata": {},
   "outputs": [],
   "source": [
    "X = data.iloc[:, :-1].values\n",
    "y = data.iloc[:, 1].values"
   ]
  },
  {
   "cell_type": "markdown",
   "id": "ad38eecb-2386-4242-bb1f-0ac7e424ed3c",
   "metadata": {
    "tags": []
   },
   "source": [
    "<br>"
   ]
  },
  {
   "cell_type": "markdown",
   "id": "fe9009e1-1d84-4054-b7d7-61454db97ef6",
   "metadata": {
    "tags": []
   },
   "source": [
    "### **Splitting the data X, y into testing data and training data**\n"
   ]
  },
  {
   "cell_type": "code",
   "execution_count": 9,
   "id": "af36ad4b-be73-4942-8043-c8ab91ea23b5",
   "metadata": {},
   "outputs": [],
   "source": [
    "X_train, X_test, y_train, y_test = train_test_split(X, y, random_state=0, test_size=0.20)"
   ]
  },
  {
   "cell_type": "code",
   "execution_count": 10,
   "id": "c47ba548-7664-47a3-873e-6ad5c39e682a",
   "metadata": {},
   "outputs": [
    {
     "data": {
      "text/plain": [
       "(20, 5)"
      ]
     },
     "execution_count": 10,
     "metadata": {},
     "output_type": "execute_result"
    }
   ],
   "source": [
    "X_train.size, X_test.size"
   ]
  },
  {
   "cell_type": "markdown",
   "id": "e18e6f71-c476-4edc-ba14-bfa264617579",
   "metadata": {},
   "source": [
    "<br>"
   ]
  },
  {
   "cell_type": "markdown",
   "id": "b40750d2-c3b7-4243-ab0c-2dc55891d4ad",
   "metadata": {},
   "source": [
    "\n",
    "### **Training the model with the training data**\n"
   ]
  },
  {
   "cell_type": "code",
   "execution_count": 11,
   "id": "1c223ad0-a689-4821-80a9-5eddaff90eb5",
   "metadata": {},
   "outputs": [
    {
     "name": "stdout",
     "output_type": "stream",
     "text": [
      "Training Complete!\n"
     ]
    }
   ],
   "source": [
    "regressor = LinearRegression()\n",
    "regressor.fit(X_train, y_train)\n",
    "print(\"Training Complete!\")"
   ]
  },
  {
   "cell_type": "markdown",
   "id": "c4b8443d-24fc-4b52-8b9c-c35bf9fb2776",
   "metadata": {},
   "source": [
    "<br>"
   ]
  },
  {
   "cell_type": "markdown",
   "id": "df37fab5-c5d4-4ad4-a96d-24b254f51b41",
   "metadata": {},
   "source": [
    "### **Let's describe the best line fit for the test data**"
   ]
  },
  {
   "cell_type": "code",
   "execution_count": 12,
   "id": "5714b77c-e196-4e37-b3be-8dc879909bbd",
   "metadata": {},
   "outputs": [],
   "source": [
    "line = regressor.coef_*X+regressor.intercept_"
   ]
  },
  {
   "cell_type": "code",
   "execution_count": 13,
   "id": "e4811c50-149d-4431-a4bb-d6c4933cb107",
   "metadata": {},
   "outputs": [
    {
     "data": {
      "image/png": "[encoded data removed]",
      "text/plain": [
       "<Figure size 900x700 with 1 Axes>"
      ]
     },
     "metadata": {},
     "output_type": "display_data"
    }
   ],
   "source": [
    "plt.scatter(X, y)\n",
    "plt.plot(X, line)\n",
    "plt.title(\"Student score\")\n",
    "plt.xlabel(\"Hours of study\")\n",
    "plt.ylabel(\"Scores\")\n",
    "plt.grid(linewidth=0.5)\n",
    "plt.show()"
   ]
  },
  {
   "cell_type": "markdown",
   "id": "31d26ac2-0fe1-4a70-9c68-bcea09b07243",
   "metadata": {},
   "source": [
    "<br>"
   ]
  },
  {
   "cell_type": "markdown",
   "id": "c290b728-19d8-40e5-907d-bb87060e68d7",
   "metadata": {},
   "source": [
    "### **Making prediction over the test data using our trained model**"
   ]
  },
  {
   "cell_type": "code",
   "execution_count": 14,
   "id": "e92008a9-7f08-4170-9f22-307611fd6e62",
   "metadata": {},
   "outputs": [
    {
     "data": {
      "text/plain": [
       "array([16.88414476, 33.73226078, 75.357018  , 26.79480124, 60.49103328])"
      ]
     },
     "execution_count": 14,
     "metadata": {},
     "output_type": "execute_result"
    }
   ],
   "source": [
    "y_pred = regressor.predict(X_test)\n",
    "y_pred"
   ]
  },
  {
   "cell_type": "markdown",
   "id": "89151bbf-47ee-4193-b34c-3fb78a178a3e",
   "metadata": {},
   "source": [
    "<br>"
   ]
  },
  {
   "cell_type": "markdown",
   "id": "4c7af912-d4be-440f-877a-b0159f3fe938",
   "metadata": {},
   "source": [
    "### **Comparing the actual values and the predicted values**"
   ]
  },
  {
   "cell_type": "code",
   "execution_count": 15,
   "id": "2ef05f3e-418e-4268-a1fb-b44a5eecbc49",
   "metadata": {},
   "outputs": [],
   "source": [
    "df_predicted = pd.DataFrame({\"Test Data\": y_test, \"Predicted Data\": y_pred})"
   ]
  },
  {
   "cell_type": "code",
   "execution_count": 16,
   "id": "8a506f18-8b6f-4174-a0d7-95bbf027e696",
   "metadata": {},
   "outputs": [
    {
     "data": {
      "text/html": [
       "<div>\n",
       "<style scoped>\n",
       "    .dataframe tbody tr th:only-of-type {\n",
       "        vertical-align: middle;\n",
       "    }\n",
       "\n",
       "    .dataframe tbody tr th {\n",
       "        vertical-align: top;\n",
       "    }\n",
       "\n",
       "    .dataframe thead th {\n",
       "        text-align: right;\n",
       "    }\n",
       "</style>\n",
       "<table border=\"1\" class=\"dataframe\">\n",
       "  <thead>\n",
       "    <tr style=\"text-align: right;\">\n",
       "      <th></th>\n",
       "      <th>Test Data</th>\n",
       "      <th>Predicted Data</th>\n",
       "    </tr>\n",
       "  </thead>\n",
       "  <tbody>\n",
       "    <tr>\n",
       "      <th>0</th>\n",
       "      <td>20</td>\n",
       "      <td>16.884145</td>\n",
       "    </tr>\n",
       "    <tr>\n",
       "      <th>1</th>\n",
       "      <td>27</td>\n",
       "      <td>33.732261</td>\n",
       "    </tr>\n",
       "    <tr>\n",
       "      <th>2</th>\n",
       "      <td>69</td>\n",
       "      <td>75.357018</td>\n",
       "    </tr>\n",
       "    <tr>\n",
       "      <th>3</th>\n",
       "      <td>30</td>\n",
       "      <td>26.794801</td>\n",
       "    </tr>\n",
       "    <tr>\n",
       "      <th>4</th>\n",
       "      <td>62</td>\n",
       "      <td>60.491033</td>\n",
       "    </tr>\n",
       "  </tbody>\n",
       "</table>\n",
       "</div>"
      ],
      "text/plain": [
       "   Test Data  Predicted Data\n",
       "0         20       16.884145\n",
       "1         27       33.732261\n",
       "2         69       75.357018\n",
       "3         30       26.794801\n",
       "4         62       60.491033"
      ]
     },
     "execution_count": 16,
     "metadata": {},
     "output_type": "execute_result"
    }
   ],
   "source": [
    "df_predicted"
   ]
  },
  {
   "cell_type": "markdown",
   "id": "5439c665-936d-4d2f-af4f-d5d5fa08c86a",
   "metadata": {},
   "source": [
    "<br>"
   ]
  },
  {
   "cell_type": "markdown",
   "id": "a87eb5d5-cbc8-482c-99ef-e602deeccffc",
   "metadata": {},
   "source": [
    ">## 5. **Task to predict approx. values of scores obtained by student if he/she studies for 9.25 hours daily**"
   ]
  },
  {
   "cell_type": "code",
   "execution_count": 17,
   "id": "eaefd66e-3014-4662-b588-3dab7d484b04",
   "metadata": {},
   "outputs": [],
   "source": [
    "def prediction(hours):\n",
    "    hrs = np.array(hours)\n",
    "    pred = regressor.predict(hrs.reshape(1,-1))\n",
    "    print(f\"Number of hours: {hrs}\\nPredicted percentage score: {pred[0]}\")"
   ]
  },
  {
   "cell_type": "code",
   "execution_count": 28,
   "id": "c63b74eb-3789-4f41-b626-c073081afa05",
   "metadata": {},
   "outputs": [
    {
     "name": "stdin",
     "output_type": "stream",
     "text": [
      "Enter hours: 9.25\n"
     ]
    },
    {
     "name": "stdout",
     "output_type": "stream",
     "text": [
      "Number of hours: 9.25\n",
      "Predicted percentage score: 93.69173248737539\n"
     ]
    }
   ],
   "source": [
    "prediction(float(input(\"Enter hours:\")))"
   ]
  },
  {
   "cell_type": "markdown",
   "id": "835ec9e3-e041-4494-8e21-3e5e30812d4f",
   "metadata": {},
   "source": [
    "<br>"
   ]
  },
  {
   "cell_type": "markdown",
   "id": "8eb302ed-0cf8-4c5b-a49b-e42896965a6c",
   "metadata": {},
   "source": [
    ">## 6. **Evaluating the model**"
   ]
  },
  {
   "cell_type": "code",
   "execution_count": 19,
   "id": "2b53d40d-ecdf-4045-bf1e-73d10ac98f3e",
   "metadata": {},
   "outputs": [
    {
     "name": "stdout",
     "output_type": "stream",
     "text": [
      "Mean Absolute Error: 4.183859899002982\n",
      "R2 Score: 0.9526947647057273\n"
     ]
    }
   ],
   "source": [
    "y_pred1 = regressor.predict(X)\n",
    "print(f'Mean Absolute Error: {mean_absolute_error(y_test, y_pred)}')\n",
    "print(f'R2 Score: {r2_score(y, y_pred1)}')"
   ]
  },
  {
   "cell_type": "markdown",
   "id": "111bf528-c3d7-46f5-8cde-cb312588c174",
   "metadata": {},
   "source": [
    "<br>"
   ]
  },
  {
   "cell_type": "markdown",
   "id": "4579092d-27c6-43af-ade9-869607dd127f",
   "metadata": {},
   "source": [
    "## **Finally, we have succesfully predicted the percentage of the student based on number of study hours**"
   ]
  },
  {
   "cell_type": "markdown",
   "id": "359c827a-87c8-4f4f-94c8-ccc0245a9486",
   "metadata": {},
   "source": [
    "<br>"
   ]
  },
  {
   "cell_type": "markdown",
   "id": "129e5c5c-38be-4808-9fe4-6fa60b4c3373",
   "metadata": {},
   "source": [
    "# **THANK YOU**!"
   ]
  }
 ],
 "metadata": {
  "kernelspec": {
   "display_name": "Python 3 (ipykernel)",
   "language": "python",
   "name": "python3"
  },
  "language_info": {
   "codemirror_mode": {
    "name": "ipython",
    "version": 3
   },
   "file_extension": ".py",
   "mimetype": "text/x-python",
   "name": "python",
   "nbconvert_exporter": "python",
   "pygments_lexer": "ipython3",
   "version": "3.11.0"
  }
 },
 "nbformat": 4,
 "nbformat_minor": 5
}
